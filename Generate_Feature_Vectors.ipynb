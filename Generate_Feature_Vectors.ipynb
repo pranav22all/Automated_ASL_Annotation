{
 "cells": [
  {
   "cell_type": "code",
   "execution_count": 8,
   "id": "b264f274",
   "metadata": {},
   "outputs": [],
   "source": [
    "import mediapipe as mp\n",
    "import numpy as np\n",
    "import cv2 as cv2\n",
    "import os\n",
    "import math\n",
    "import numpy as np\n",
    "from tqdm import tqdm "
   ]
  },
  {
   "cell_type": "code",
   "execution_count": 9,
   "id": "db33427b",
   "metadata": {},
   "outputs": [],
   "source": [
    "MIN_CONFIDENCE_LEVEL = 0.7\n",
    "folders = ['A', 'B', 'C', 'D', 'E', 'F', 'G', 'H', 'I', 'J', 'K', 'L', 'M', 'N', \n",
    "           'O', 'P', 'Q', 'R', 'S', 'T', 'U', 'V', 'W', 'X', 'Y', 'Z', 'del', 'nothing', 'space']"
   ]
  },
  {
   "cell_type": "code",
   "execution_count": 10,
   "id": "3c987443",
   "metadata": {},
   "outputs": [],
   "source": [
    "mp_hands = mp.solutions.hands\n",
    "mp_drawing = mp.solutions.drawing_utils\n",
    "mp_drawing_styles = mp.solutions.drawing_styles"
   ]
  },
  {
   "cell_type": "code",
   "execution_count": 11,
   "id": "c8b4e498",
   "metadata": {},
   "outputs": [],
   "source": [
    "#np.load(\"train_numpy_arrays/asl_alphabet_train/asl_alphabet_train/B/B1727.npy\")"
   ]
  },
  {
   "cell_type": "code",
   "execution_count": 12,
   "id": "14fcc81d",
   "metadata": {},
   "outputs": [],
   "source": [
    "train_dir = 'train_mediapipe_images/asl_alphabet_train/asl_alphabet_train'\n",
    "test_dir = 'test_mediapipe_images/asl-alphabet-test'\n",
    "train_output_dir = 'train_numpy_arrays/asl_alphabet_train/asl_alphabet_train'\n",
    "#test_output_dir = 'test_numpy_arrays/asl-alphabet-test'"
   ]
  },
  {
   "cell_type": "code",
   "execution_count": 13,
   "id": "a992fd7a",
   "metadata": {},
   "outputs": [
    {
     "name": "stdout",
     "output_type": "stream",
     "text": [
      "Currently looking at the following folder: B\n",
      "There are 3000 files in this folder\n",
      "Currently looking at the following folder: del\n",
      "There are 3000 files in this folder\n",
      "Currently looking at the following folder: Z\n",
      "There are 3000 files in this folder\n",
      "Currently looking at the following folder: F\n",
      "There are 3000 files in this folder\n",
      "Currently looking at the following folder: nothing\n",
      "There are 3000 files in this folder\n",
      "Currently looking at the following folder: V\n",
      "There are 3000 files in this folder\n",
      "Currently looking at the following folder: Y\n",
      "There are 3000 files in this folder\n",
      "Currently looking at the following folder: E\n",
      "There are 3000 files in this folder\n",
      "Currently looking at the following folder: W\n",
      "There are 3000 files in this folder\n",
      "Currently looking at the following folder: R\n",
      "There are 3000 files in this folder\n",
      "Currently looking at the following folder: O\n",
      "There are 3000 files in this folder\n",
      "Currently looking at the following folder: H\n",
      "There are 3000 files in this folder\n",
      "Currently looking at the following folder: J\n",
      "There are 3000 files in this folder\n",
      "Currently looking at the following folder: Q\n",
      "There are 3000 files in this folder\n",
      "Currently looking at the following folder: space\n",
      "There are 3000 files in this folder\n",
      "Currently looking at the following folder: L\n",
      "There are 3000 files in this folder\n",
      "Currently looking at the following folder: T\n",
      "There are 3000 files in this folder\n",
      "Currently looking at the following folder: K\n",
      "There are 3000 files in this folder\n",
      "Currently looking at the following folder: P\n",
      "There are 3000 files in this folder\n",
      "Currently looking at the following folder: U\n",
      "There are 3000 files in this folder\n",
      "Currently looking at the following folder: S\n",
      "There are 3000 files in this folder\n",
      "Currently looking at the following folder: C\n",
      "There are 3000 files in this folder\n",
      "Currently looking at the following folder: I\n",
      "There are 3000 files in this folder\n",
      "Currently looking at the following folder: M\n",
      "There are 3000 files in this folder\n",
      "Currently looking at the following folder: N\n",
      "There are 3000 files in this folder\n",
      "Currently looking at the following folder: D\n",
      "There are 3000 files in this folder\n",
      "Currently looking at the following folder: X\n",
      "There are 3000 files in this folder\n",
      "Currently looking at the following folder: G\n",
      "There are 3000 files in this folder\n",
      "Currently looking at the following folder: A\n",
      "There are 3000 files in this folder\n"
     ]
    }
   ],
   "source": [
    "#Get number of files in each directory / \n",
    "for letter_dir in os.listdir(train_dir): \n",
    "    letter_path = os.path.join(train_dir, letter_dir)\n",
    "    num_files = len(os.listdir(letter_path))\n",
    "    print(\"Currently looking at the following folder: \" + letter_dir)\n",
    "    print(\"There are \" + str(num_files) + \" files in this folder\")"
   ]
  },
  {
   "cell_type": "code",
   "execution_count": 14,
   "id": "90d91eb3",
   "metadata": {},
   "outputs": [
    {
     "name": "stdout",
     "output_type": "stream",
     "text": [
      "Currently processing the train directory images\n",
      "Currently processing the following folder: B\n",
      "There are 3000 files in this folder\n"
     ]
    },
    {
     "name": "stderr",
     "output_type": "stream",
     "text": [
      "100%|██████████████████████████████████████████████████████████████████████████████████████████████████████████████████████| 3000/3000 [05:59<00:00,  8.34it/s]\n"
     ]
    },
    {
     "name": "stdout",
     "output_type": "stream",
     "text": [
      "Finished with folder\n",
      "Generated 3000 npy files\n",
      "Currently processing the following folder: del\n",
      "There are 3000 files in this folder\n"
     ]
    },
    {
     "name": "stderr",
     "output_type": "stream",
     "text": [
      "100%|██████████████████████████████████████████████████████████████████████████████████████████████████████████████████████| 3000/3000 [05:34<00:00,  8.98it/s]\n"
     ]
    },
    {
     "name": "stdout",
     "output_type": "stream",
     "text": [
      "Finished with folder\n",
      "Generated 3000 npy files\n",
      "Currently processing the following folder: Z\n",
      "There are 3000 files in this folder\n"
     ]
    },
    {
     "name": "stderr",
     "output_type": "stream",
     "text": [
      "100%|██████████████████████████████████████████████████████████████████████████████████████████████████████████████████████| 3000/3000 [06:04<00:00,  8.23it/s]\n"
     ]
    },
    {
     "name": "stdout",
     "output_type": "stream",
     "text": [
      "Finished with folder\n",
      "Generated 3000 npy files\n",
      "Currently processing the following folder: F\n",
      "There are 3000 files in this folder\n"
     ]
    },
    {
     "name": "stderr",
     "output_type": "stream",
     "text": [
      "100%|██████████████████████████████████████████████████████████████████████████████████████████████████████████████████████| 3000/3000 [06:38<00:00,  7.53it/s]\n"
     ]
    },
    {
     "name": "stdout",
     "output_type": "stream",
     "text": [
      "Finished with folder\n",
      "Generated 3000 npy files\n",
      "Currently processing the following folder: nothing\n",
      "There are 3000 files in this folder\n"
     ]
    },
    {
     "name": "stderr",
     "output_type": "stream",
     "text": [
      "100%|██████████████████████████████████████████████████████████████████████████████████████████████████████████████████████| 3000/3000 [04:43<00:00, 10.59it/s]\n"
     ]
    },
    {
     "name": "stdout",
     "output_type": "stream",
     "text": [
      "Finished with folder\n",
      "Generated 3000 npy files\n",
      "Currently processing the following folder: V\n",
      "There are 3000 files in this folder\n"
     ]
    },
    {
     "name": "stderr",
     "output_type": "stream",
     "text": [
      "100%|██████████████████████████████████████████████████████████████████████████████████████████████████████████████████████| 3000/3000 [06:23<00:00,  7.83it/s]\n"
     ]
    },
    {
     "name": "stdout",
     "output_type": "stream",
     "text": [
      "Finished with folder\n",
      "Generated 3000 npy files\n",
      "Currently processing the following folder: Y\n",
      "There are 3000 files in this folder\n"
     ]
    },
    {
     "name": "stderr",
     "output_type": "stream",
     "text": [
      "100%|██████████████████████████████████████████████████████████████████████████████████████████████████████████████████████| 3000/3000 [06:18<00:00,  7.93it/s]\n"
     ]
    },
    {
     "name": "stdout",
     "output_type": "stream",
     "text": [
      "Finished with folder\n",
      "Generated 3000 npy files\n",
      "Currently processing the following folder: E\n",
      "There are 3000 files in this folder\n"
     ]
    },
    {
     "name": "stderr",
     "output_type": "stream",
     "text": [
      "100%|██████████████████████████████████████████████████████████████████████████████████████████████████████████████████████| 3000/3000 [06:06<00:00,  8.18it/s]\n"
     ]
    },
    {
     "name": "stdout",
     "output_type": "stream",
     "text": [
      "Finished with folder\n",
      "Generated 3000 npy files\n",
      "Currently processing the following folder: W\n",
      "There are 3000 files in this folder\n"
     ]
    },
    {
     "name": "stderr",
     "output_type": "stream",
     "text": [
      "100%|██████████████████████████████████████████████████████████████████████████████████████████████████████████████████████| 3000/3000 [06:19<00:00,  7.91it/s]\n"
     ]
    },
    {
     "name": "stdout",
     "output_type": "stream",
     "text": [
      "Finished with folder\n",
      "Generated 3000 npy files\n",
      "Currently processing the following folder: R\n",
      "There are 3000 files in this folder\n"
     ]
    },
    {
     "name": "stderr",
     "output_type": "stream",
     "text": [
      "100%|██████████████████████████████████████████████████████████████████████████████████████████████████████████████████████| 3000/3000 [06:21<00:00,  7.86it/s]\n"
     ]
    },
    {
     "name": "stdout",
     "output_type": "stream",
     "text": [
      "Finished with folder\n",
      "Generated 3000 npy files\n",
      "Currently processing the following folder: O\n",
      "There are 3000 files in this folder\n"
     ]
    },
    {
     "name": "stderr",
     "output_type": "stream",
     "text": [
      "100%|██████████████████████████████████████████████████████████████████████████████████████████████████████████████████████| 3000/3000 [06:05<00:00,  8.21it/s]\n"
     ]
    },
    {
     "name": "stdout",
     "output_type": "stream",
     "text": [
      "Finished with folder\n",
      "Generated 3000 npy files\n",
      "Currently processing the following folder: H\n",
      "There are 3000 files in this folder\n"
     ]
    },
    {
     "name": "stderr",
     "output_type": "stream",
     "text": [
      "100%|██████████████████████████████████████████████████████████████████████████████████████████████████████████████████████| 3000/3000 [06:12<00:00,  8.05it/s]\n"
     ]
    },
    {
     "name": "stdout",
     "output_type": "stream",
     "text": [
      "Finished with folder\n",
      "Generated 3000 npy files\n",
      "Currently processing the following folder: J\n",
      "There are 3000 files in this folder\n"
     ]
    },
    {
     "name": "stderr",
     "output_type": "stream",
     "text": [
      "100%|██████████████████████████████████████████████████████████████████████████████████████████████████████████████████████| 3000/3000 [06:18<00:00,  7.93it/s]\n"
     ]
    },
    {
     "name": "stdout",
     "output_type": "stream",
     "text": [
      "Finished with folder\n",
      "Generated 3000 npy files\n",
      "Currently processing the following folder: Q\n",
      "There are 3000 files in this folder\n"
     ]
    },
    {
     "name": "stderr",
     "output_type": "stream",
     "text": [
      "100%|██████████████████████████████████████████████████████████████████████████████████████████████████████████████████████| 3000/3000 [06:01<00:00,  8.31it/s]\n"
     ]
    },
    {
     "name": "stdout",
     "output_type": "stream",
     "text": [
      "Finished with folder\n",
      "Generated 3000 npy files\n",
      "Currently processing the following folder: space\n",
      "There are 3000 files in this folder\n"
     ]
    },
    {
     "name": "stderr",
     "output_type": "stream",
     "text": [
      "100%|██████████████████████████████████████████████████████████████████████████████████████████████████████████████████████| 3000/3000 [03:43<00:00, 13.45it/s]\n"
     ]
    },
    {
     "name": "stdout",
     "output_type": "stream",
     "text": [
      "Finished with folder\n",
      "Generated 3000 npy files\n",
      "Currently processing the following folder: L\n",
      "There are 3000 files in this folder\n"
     ]
    },
    {
     "name": "stderr",
     "output_type": "stream",
     "text": [
      "100%|██████████████████████████████████████████████████████████████████████████████████████████████████████████████████████| 3000/3000 [04:05<00:00, 12.22it/s]\n"
     ]
    },
    {
     "name": "stdout",
     "output_type": "stream",
     "text": [
      "Finished with folder\n",
      "Generated 3000 npy files\n",
      "Currently processing the following folder: T\n",
      "There are 3000 files in this folder\n"
     ]
    },
    {
     "name": "stderr",
     "output_type": "stream",
     "text": [
      "100%|██████████████████████████████████████████████████████████████████████████████████████████████████████████████████████| 3000/3000 [04:02<00:00, 12.40it/s]\n"
     ]
    },
    {
     "name": "stdout",
     "output_type": "stream",
     "text": [
      "Finished with folder\n",
      "Generated 3000 npy files\n",
      "Currently processing the following folder: K\n",
      "There are 3000 files in this folder\n"
     ]
    },
    {
     "name": "stderr",
     "output_type": "stream",
     "text": [
      "100%|██████████████████████████████████████████████████████████████████████████████████████████████████████████████████████| 3000/3000 [04:11<00:00, 11.93it/s]\n"
     ]
    },
    {
     "name": "stdout",
     "output_type": "stream",
     "text": [
      "Finished with folder\n",
      "Generated 3000 npy files\n",
      "Currently processing the following folder: P\n",
      "There are 3000 files in this folder\n"
     ]
    },
    {
     "name": "stderr",
     "output_type": "stream",
     "text": [
      "100%|██████████████████████████████████████████████████████████████████████████████████████████████████████████████████████| 3000/3000 [03:53<00:00, 12.83it/s]\n"
     ]
    },
    {
     "name": "stdout",
     "output_type": "stream",
     "text": [
      "Finished with folder\n",
      "Generated 3000 npy files\n",
      "Currently processing the following folder: U\n",
      "There are 3000 files in this folder\n"
     ]
    },
    {
     "name": "stderr",
     "output_type": "stream",
     "text": [
      "100%|██████████████████████████████████████████████████████████████████████████████████████████████████████████████████████| 3000/3000 [04:06<00:00, 12.18it/s]\n"
     ]
    },
    {
     "name": "stdout",
     "output_type": "stream",
     "text": [
      "Finished with folder\n",
      "Generated 3000 npy files\n",
      "Currently processing the following folder: S\n",
      "There are 3000 files in this folder\n"
     ]
    },
    {
     "name": "stderr",
     "output_type": "stream",
     "text": [
      "100%|██████████████████████████████████████████████████████████████████████████████████████████████████████████████████████| 3000/3000 [04:07<00:00, 12.13it/s]\n"
     ]
    },
    {
     "name": "stdout",
     "output_type": "stream",
     "text": [
      "Finished with folder\n",
      "Generated 3000 npy files\n",
      "Currently processing the following folder: C\n",
      "There are 3000 files in this folder\n"
     ]
    },
    {
     "name": "stderr",
     "output_type": "stream",
     "text": [
      "100%|██████████████████████████████████████████████████████████████████████████████████████████████████████████████████████| 3000/3000 [03:49<00:00, 13.10it/s]\n"
     ]
    },
    {
     "name": "stdout",
     "output_type": "stream",
     "text": [
      "Finished with folder\n",
      "Generated 3000 npy files\n",
      "Currently processing the following folder: I\n",
      "There are 3000 files in this folder\n"
     ]
    },
    {
     "name": "stderr",
     "output_type": "stream",
     "text": [
      "100%|██████████████████████████████████████████████████████████████████████████████████████████████████████████████████████| 3000/3000 [04:02<00:00, 12.35it/s]\n"
     ]
    },
    {
     "name": "stdout",
     "output_type": "stream",
     "text": [
      "Finished with folder\n",
      "Generated 3000 npy files\n",
      "Currently processing the following folder: M\n",
      "There are 3000 files in this folder\n"
     ]
    },
    {
     "name": "stderr",
     "output_type": "stream",
     "text": [
      "100%|██████████████████████████████████████████████████████████████████████████████████████████████████████████████████████| 3000/3000 [03:38<00:00, 13.71it/s]\n"
     ]
    },
    {
     "name": "stdout",
     "output_type": "stream",
     "text": [
      "Finished with folder\n",
      "Generated 3000 npy files\n",
      "Currently processing the following folder: N\n",
      "There are 3000 files in this folder\n"
     ]
    },
    {
     "name": "stderr",
     "output_type": "stream",
     "text": [
      "100%|██████████████████████████████████████████████████████████████████████████████████████████████████████████████████████| 3000/3000 [03:30<00:00, 14.25it/s]\n"
     ]
    },
    {
     "name": "stdout",
     "output_type": "stream",
     "text": [
      "Finished with folder\n",
      "Generated 3000 npy files\n",
      "Currently processing the following folder: D\n",
      "There are 3000 files in this folder\n"
     ]
    },
    {
     "name": "stderr",
     "output_type": "stream",
     "text": [
      "100%|██████████████████████████████████████████████████████████████████████████████████████████████████████████████████████| 3000/3000 [04:00<00:00, 12.46it/s]\n"
     ]
    },
    {
     "name": "stdout",
     "output_type": "stream",
     "text": [
      "Finished with folder\n",
      "Generated 3000 npy files\n",
      "Currently processing the following folder: X\n",
      "There are 3000 files in this folder\n"
     ]
    },
    {
     "name": "stderr",
     "output_type": "stream",
     "text": [
      "100%|██████████████████████████████████████████████████████████████████████████████████████████████████████████████████████| 3000/3000 [03:57<00:00, 12.62it/s]\n"
     ]
    },
    {
     "name": "stdout",
     "output_type": "stream",
     "text": [
      "Finished with folder\n",
      "Generated 3000 npy files\n",
      "Currently processing the following folder: G\n",
      "There are 3000 files in this folder\n"
     ]
    },
    {
     "name": "stderr",
     "output_type": "stream",
     "text": [
      "100%|██████████████████████████████████████████████████████████████████████████████████████████████████████████████████████| 3000/3000 [04:03<00:00, 12.33it/s]\n"
     ]
    },
    {
     "name": "stdout",
     "output_type": "stream",
     "text": [
      "Finished with folder\n",
      "Generated 3000 npy files\n",
      "Currently processing the following folder: A\n",
      "There are 3000 files in this folder\n"
     ]
    },
    {
     "name": "stderr",
     "output_type": "stream",
     "text": [
      "100%|██████████████████████████████████████████████████████████████████████████████████████████████████████████████████████| 3000/3000 [03:56<00:00, 12.66it/s]"
     ]
    },
    {
     "name": "stdout",
     "output_type": "stream",
     "text": [
      "Finished with folder\n",
      "Generated 3000 npy files\n"
     ]
    },
    {
     "name": "stderr",
     "output_type": "stream",
     "text": [
      "\n"
     ]
    }
   ],
   "source": [
    "print(\"Currently processing the train directory images\")\n",
    "for letter_dir in os.listdir(train_dir): \n",
    "    print(\"Currently processing the following folder: \" + letter_dir)\n",
    "    letter_path = os.path.join(train_dir, letter_dir)\n",
    "    num_files = len(os.listdir(letter_path))\n",
    "    print(\"There are \" + str(num_files) + \" files in this folder\")\n",
    "    \n",
    "    for file_name in tqdm(os.listdir(letter_path)): \n",
    "        if file_name.endswith(\".jpg\"):\n",
    "            f_name, f_ext = os.path.splitext(file_name)\n",
    "\n",
    "            image_path = os.path.join(letter_path, file_name)\n",
    "            image = cv2.imread(image_path)\n",
    "\n",
    "            output_path = os.path.join(train_output_dir, letter_dir, f_name)\n",
    "            with mp_hands.Hands(static_image_mode = True,max_num_hands = 2,\n",
    "                min_detection_confidence = MIN_CONFIDENCE_LEVEL) as hands:\n",
    "\n",
    "                #For training change this line, don't need to flip (since images appear to be from back-facing camera) \n",
    "                #Convert cv2 BGR image to RGB image and flip (since image coming from front-facing camera)  \n",
    "                #processed = hands.process(cv2.cvtColor(image, cv2.COLOR_BGR2RGB))\n",
    "                processed = hands.process(cv2.flip(cv2.cvtColor(image, cv2.COLOR_BGR2RGB), 1))\n",
    "\n",
    "                #No hand detected: \n",
    "                if not processed.multi_hand_landmarks: \n",
    "                    zeros = np.array([0] * 126)\n",
    "                    np.save(output_path, zeros)\n",
    "                    \n",
    "                else: \n",
    "                    feature_vector = [] \n",
    "                    #Could have one or two hands: \n",
    "                    for hand in processed.multi_hand_landmarks: \n",
    "                        for curr_landmark in hand.landmark: \n",
    "                            x = curr_landmark.x \n",
    "                            feature_vector.append(x)\n",
    "\n",
    "                            y = curr_landmark.y \n",
    "                            feature_vector.append(y)\n",
    "\n",
    "                            z = curr_landmark.z\n",
    "                            feature_vector.append(z)\n",
    "\n",
    "                    #If we have just one hand, zero out the remaining (to ensure constant vector size of 126)\n",
    "                    #Might cause problems in one-hand case if we care which hand is visible/showing sign language\n",
    "                    #Solution to this is to use processed.multi_handedness\n",
    "                    if (len(feature_vector) == 63):\n",
    "                        zero_vector = [0] * 63 \n",
    "                        feature_vector.extend(zero_vector)\n",
    "\n",
    "                    output = np.array(feature_vector)\n",
    "                    np.save(output_path, output)\n",
    "    \n",
    "    output_folder_path = os.path.join(train_output_dir, letter_dir)\n",
    "    num_generated_files = len(os.listdir(output_folder_path))\n",
    "    print(\"Finished with folder\")\n",
    "    print(\"Generated \" + str(num_generated_files) + \" npy files\")\n",
    "                    \n",
    "            "
   ]
  },
  {
   "cell_type": "code",
   "execution_count": 15,
   "id": "54ba4559",
   "metadata": {},
   "outputs": [
    {
     "name": "stdout",
     "output_type": "stream",
     "text": [
      "Currently processing the test directory images\n",
      "Currently processing the following folder: B\n",
      "There are 30 files in this folder\n"
     ]
    },
    {
     "name": "stderr",
     "output_type": "stream",
     "text": [
      "  0%|                                                                                                                                   | 0/30 [00:00<?, ?it/s]\n"
     ]
    },
    {
     "ename": "NameError",
     "evalue": "name 'test_output_dir' is not defined",
     "output_type": "error",
     "traceback": [
      "\u001b[0;31m---------------------------------------------------------------------------\u001b[0m",
      "\u001b[0;31mNameError\u001b[0m                                 Traceback (most recent call last)",
      "\u001b[0;32m/tmp/ipykernel_1028/3391090537.py\u001b[0m in \u001b[0;36m<module>\u001b[0;34m\u001b[0m\n\u001b[1;32m     14\u001b[0m             \u001b[0mimage\u001b[0m \u001b[0;34m=\u001b[0m \u001b[0mcv2\u001b[0m\u001b[0;34m.\u001b[0m\u001b[0mimread\u001b[0m\u001b[0;34m(\u001b[0m\u001b[0mimage_path\u001b[0m\u001b[0;34m)\u001b[0m\u001b[0;34m\u001b[0m\u001b[0;34m\u001b[0m\u001b[0m\n\u001b[1;32m     15\u001b[0m \u001b[0;34m\u001b[0m\u001b[0m\n\u001b[0;32m---> 16\u001b[0;31m             \u001b[0moutput_path\u001b[0m \u001b[0;34m=\u001b[0m \u001b[0mos\u001b[0m\u001b[0;34m.\u001b[0m\u001b[0mpath\u001b[0m\u001b[0;34m.\u001b[0m\u001b[0mjoin\u001b[0m\u001b[0;34m(\u001b[0m\u001b[0mtest_output_dir\u001b[0m\u001b[0;34m,\u001b[0m \u001b[0mletter_dir\u001b[0m\u001b[0;34m,\u001b[0m \u001b[0mf_name\u001b[0m\u001b[0;34m)\u001b[0m\u001b[0;34m\u001b[0m\u001b[0;34m\u001b[0m\u001b[0m\n\u001b[0m\u001b[1;32m     17\u001b[0m             with mp_hands.Hands(static_image_mode = True,max_num_hands = 2,\n\u001b[1;32m     18\u001b[0m                 min_detection_confidence = MIN_CONFIDENCE_LEVEL) as hands:\n",
      "\u001b[0;31mNameError\u001b[0m: name 'test_output_dir' is not defined"
     ]
    }
   ],
   "source": [
    "#Hasn't been tested yet: \n",
    "print(\"Currently processing the test directory images\")\n",
    "for letter_dir in os.listdir(test_dir): \n",
    "    print(\"Currently processing the following folder: \" + letter_dir)\n",
    "    letter_path = os.path.join(test_dir, letter_dir)\n",
    "    num_files = len(os.listdir(letter_path))\n",
    "    print(\"There are \" + str(num_files) + \" files in this folder\")\n",
    "    \n",
    "    for file_name in tqdm(os.listdir(letter_path)): \n",
    "        if file_name.endswith(\".jpg\"):\n",
    "            f_name, f_ext = os.path.splitext(file_name)\n",
    "\n",
    "            image_path = os.path.join(letter_path, file_name)\n",
    "            image = cv2.imread(image_path)\n",
    "\n",
    "            output_path = os.path.join(test_output_dir, letter_dir, f_name)\n",
    "            with mp_hands.Hands(static_image_mode = True,max_num_hands = 2,\n",
    "                min_detection_confidence = MIN_CONFIDENCE_LEVEL) as hands:\n",
    "\n",
    "                #For training change this line, don't need to flip (since images appear to be from back-facing camera) \n",
    "                #Convert cv2 BGR image to RGB image and flip (since image coming from front-facing camera)  \n",
    "                #processed = hands.process(cv2.cvtColor(image, cv2.COLOR_BGR2RGB))\n",
    "                processed = hands.process(cv2.flip(cv2.cvtColor(image, cv2.COLOR_BGR2RGB), 1))\n",
    "\n",
    "                #No hand detected: \n",
    "                if not processed.multi_hand_landmarks: \n",
    "                    zeros = np.array([0] * 126)\n",
    "                    np.save(output_path, zeros)\n",
    "                    \n",
    "                else: \n",
    "                    feature_vector = [] \n",
    "                    #Could have one or two hands: \n",
    "                    for hand in processed.multi_hand_landmarks: \n",
    "                        for curr_landmark in hand.landmark: \n",
    "                            x = curr_landmark.x \n",
    "                            feature_vector.append(x)\n",
    "\n",
    "                            y = curr_landmark.y \n",
    "                            feature_vector.append(y)\n",
    "\n",
    "                            z = curr_landmark.z\n",
    "                            feature_vector.append(z)\n",
    "\n",
    "                    #If we have just one hand, zero out the remaining (to ensure constant vector size of 126)\n",
    "                    #Might cause problems in one-hand case if we care which hand is visible/showing sign language\n",
    "                    #Solution to this is to use processed.multi_handedness\n",
    "                    if (len(feature_vector) == 63):\n",
    "                        zero_vector = [0] * 63 \n",
    "                        feature_vector.extend(zero_vector)\n",
    "\n",
    "                    output = np.array(feature_vector)\n",
    "                    np.save(output_path, output)\n",
    "    \n",
    "    output_folder_path = os.path.join(test_output_dir, letter_dir)\n",
    "    num_generated_files = len(os.listdir(output_folder_path))\n",
    "    print(\"Finished with folder\")\n",
    "    print(\"Generated \" + str(num_generated_files) + \" npy files\")\n",
    "                    \n",
    "            "
   ]
  }
 ],
 "metadata": {
  "kernelspec": {
   "display_name": "Python [conda env:root] *",
   "language": "python",
   "name": "conda-root-py"
  },
  "language_info": {
   "codemirror_mode": {
    "name": "ipython",
    "version": 3
   },
   "file_extension": ".py",
   "mimetype": "text/x-python",
   "name": "python",
   "nbconvert_exporter": "python",
   "pygments_lexer": "ipython3",
   "version": "3.7.12"
  }
 },
 "nbformat": 4,
 "nbformat_minor": 5
}
